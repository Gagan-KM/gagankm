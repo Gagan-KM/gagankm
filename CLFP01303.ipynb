{
 "cells": [
  {
   "cell_type": "code",
   "execution_count": null,
   "metadata": {},
   "outputs": [
    {
     "data": {
      "text/plain": [
       "8"
      ]
     },
     "execution_count": 2,
     "metadata": {},
     "output_type": "execute_result"
    }
   ],
   "source": [
    "'''Problem 1: Sum of Two Numbers\n",
    "Problem Statement: Write a function that takes two numbers as input and returns their sum.\n",
    "Input: 3, 5\n",
    "Expected Output: 8'''\n",
    "def sum_of_two_numbers(n1, n2):\n",
    "    return n1 + n2\n",
    "sum_of_two_numbers(3, 5)"
   ]
  },
  {
   "cell_type": "code",
   "execution_count": 6,
   "metadata": {},
   "outputs": [
    {
     "data": {
      "text/plain": [
       "'olleh'"
      ]
     },
     "execution_count": 6,
     "metadata": {},
     "output_type": "execute_result"
    }
   ],
   "source": [
    "'''\n",
    "Problem 2: String Reversal\n",
    "Problem Statement: Write a function that takes a string and returns the reversed string.\n",
    "Input: \"hello\"\n",
    "Expected Output: \"olleh\"\n",
    "________________________________________'''\n",
    "\n",
    "def reverse_string(st):\n",
    "    return st[::-1]\n",
    "reverse_string(\"hello\")"
   ]
  },
  {
   "cell_type": "code",
   "execution_count": 8,
   "metadata": {},
   "outputs": [
    {
     "data": {
      "text/plain": [
       "3"
      ]
     },
     "execution_count": 8,
     "metadata": {},
     "output_type": "execute_result"
    }
   ],
   "source": [
    "'''\n",
    "Problem 3: Count Vowels\n",
    "Problem Statement: Write a function that counts the number of vowels in a given string.\n",
    "Input: \"hello world\"\n",
    "Expected Output: 3\n",
    "'''\n",
    "def count_vowels(st):\n",
    "    vowels = \"aeiouAEIOU\"\n",
    "    return len(list(i for i in list(st) if i in vowels))\n",
    "count_vowels(\"hello world\")"
   ]
  },
  {
   "cell_type": "code",
   "execution_count": 16,
   "metadata": {},
   "outputs": [
    {
     "data": {
      "text/plain": [
       "15"
      ]
     },
     "execution_count": 16,
     "metadata": {},
     "output_type": "execute_result"
    }
   ],
   "source": [
    "'''\n",
    "Problem 4: List Sum\n",
    "Problem Statement: Write a function that takes a list of integers and returns the sum of all elements.\n",
    "Input: [1, 2, 3, 4, 5]\n",
    "Expected Output: 15\n",
    "'''\n",
    "\n",
    "def sum_list(li):\n",
    "    sum = 0\n",
    "    for i in li:\n",
    "        sum += i\n",
    "    return sum\n",
    "sum_list([1, 2, 3, 4, 5])"
   ]
  },
  {
   "cell_type": "code",
   "execution_count": 21,
   "metadata": {},
   "outputs": [
    {
     "data": {
      "text/plain": [
       "False"
      ]
     },
     "execution_count": 21,
     "metadata": {},
     "output_type": "execute_result"
    }
   ],
   "source": [
    "'''Problem 5: Dictionary Key Search\n",
    "Problem Statement: Write a function that takes a dictionary and a key, and returns True if the key exists in the dictionary, otherwise False.\n",
    "Input: {\"a\": 1, \"b\": 2}, \"b\"\n",
    "Expected Output: True\n",
    "'''\n",
    "\n",
    "def search_key(dict1, k):\n",
    "    if k in dict1:\n",
    "        return True \n",
    "    else:\n",
    "        return False\n",
    "search_key({\"a\": 1, \"b\": 2}, \"c\")"
   ]
  },
  {
   "cell_type": "code",
   "execution_count": 26,
   "metadata": {},
   "outputs": [
    {
     "data": {
      "text/plain": [
       "40"
      ]
     },
     "execution_count": 26,
     "metadata": {},
     "output_type": "execute_result"
    }
   ],
   "source": [
    "'''Problem 6: Tuple Unpacking\n",
    "Problem Statement: Write a function that takes a tuple of three elements and returns the sum of the first and last elements.\n",
    "Input: (10, 20, 30)\n",
    "Expected Output: 40\n",
    "________________________________________'''\n",
    "\n",
    "def tuple_unpack(tu):\n",
    "    sum = 0\n",
    "    for i, j in enumerate(tu):\n",
    "        if j == tu[-1] or j == tu[0]:\n",
    "            sum += j\n",
    "    return sum\n",
    "tuple_unpack((10, 20, 30))"
   ]
  },
  {
   "cell_type": "code",
   "execution_count": 33,
   "metadata": {},
   "outputs": [
    {
     "data": {
      "text/plain": [
       "{2, 3}"
      ]
     },
     "execution_count": 33,
     "metadata": {},
     "output_type": "execute_result"
    }
   ],
   "source": [
    "'''Problem 7: Set Intersection\n",
    "Problem Statement: Write a function that takes two sets and returns their intersection.\n",
    "Input: {1, 2, 3}, {2, 3, 4}\n",
    "Expected Output: {2, 3}\n",
    "________________________________________'''\n",
    "\n",
    "def set_intersection(s1, s2):\n",
    "    s3 = set()\n",
    "    for i in s1:\n",
    "        if i in s2:\n",
    "            s3.add(i)    \n",
    "    return s3\n",
    "set_intersection({1, 2, 3}, {2, 3, 4})"
   ]
  },
  {
   "cell_type": "code",
   "execution_count": 44,
   "metadata": {},
   "outputs": [
    {
     "data": {
      "text/plain": [
       "5"
      ]
     },
     "execution_count": 44,
     "metadata": {},
     "output_type": "execute_result"
    }
   ],
   "source": [
    "'''Problem 8: File Line Count\n",
    "Problem Statement: Write a function that reads a file and returns the number of lines in it.\n",
    "Input: test.txt (file with 5 lines)\n",
    "Expected Output: 5\n",
    "________________________________________\n",
    "'''\n",
    "\n",
    "def file_line_count():\n",
    "    count = 0\n",
    "    with open('filesample1.txt', 'w+') as f:\n",
    "        f.write('hello world \\nhow are you \\nthis is python \\nim fine what about you \\nhola india')\n",
    "        f.seek(0)\n",
    "        for i in f.readlines():\n",
    "            count += 1\n",
    "    return count\n",
    "file_line_count()"
   ]
  },
  {
   "cell_type": "code",
   "execution_count": 49,
   "metadata": {},
   "outputs": [
    {
     "data": {
      "text/plain": [
       "True"
      ]
     },
     "execution_count": 49,
     "metadata": {},
     "output_type": "execute_result"
    }
   ],
   "source": [
    "'''Problem 9: Comparison Operators\n",
    "Problem Statement: Write a function that takes two numbers and returns True if the first is greater than the second, otherwise False.\n",
    "Input: 10, 5\n",
    "Expected Output: True\n",
    "________________________________________\n",
    "'''\n",
    "\n",
    "def compare_numbers(n1, n2):\n",
    "    return bool(True if n1 > n2 else False)\n",
    "compare_numbers(10, 5)"
   ]
  },
  {
   "cell_type": "code",
   "execution_count": 53,
   "metadata": {},
   "outputs": [
    {
     "data": {
      "text/plain": [
       "True"
      ]
     },
     "execution_count": 53,
     "metadata": {},
     "output_type": "execute_result"
    }
   ],
   "source": [
    "'''Problem 10: Chained Comparison\n",
    "Problem Statement: Write a function that checks if a number is between 1 and 100 (inclusive).\n",
    "Input: 50\n",
    "Expected Output: True\n",
    "'''\n",
    "\n",
    "def chained_comparison(n):\n",
    "    return bool(True if n in range(0, 100) else False)\n",
    "chained_comparison(50)"
   ]
  },
  {
   "cell_type": "code",
   "execution_count": null,
   "metadata": {},
   "outputs": [],
   "source": []
  }
 ],
 "metadata": {
  "kernelspec": {
   "display_name": "base",
   "language": "python",
   "name": "python3"
  },
  "language_info": {
   "codemirror_mode": {
    "name": "ipython",
    "version": 3
   },
   "file_extension": ".py",
   "mimetype": "text/x-python",
   "name": "python",
   "nbconvert_exporter": "python",
   "pygments_lexer": "ipython3",
   "version": "3.11.7"
  }
 },
 "nbformat": 4,
 "nbformat_minor": 2
}
