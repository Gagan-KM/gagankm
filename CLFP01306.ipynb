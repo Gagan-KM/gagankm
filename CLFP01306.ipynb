{
 "cells": [
  {
   "cell_type": "code",
   "execution_count": 8,
   "metadata": {},
   "outputs": [
    {
     "data": {
      "text/plain": [
       "[0, 1, 1, 2, 3]"
      ]
     },
     "execution_count": 8,
     "metadata": {},
     "output_type": "execute_result"
    }
   ],
   "source": [
    "def fibonacci(n, li):\n",
    "    a, b = 0, 1\n",
    "    for i in range(n):\n",
    "        li.append(a)\n",
    "        a, b = b, a + b\n",
    "    return li\n",
    "fibonacci(5, [])"
   ]
  },
  {
   "cell_type": "code",
   "execution_count": 18,
   "metadata": {},
   "outputs": [
    {
     "data": {
      "text/plain": [
       "True"
      ]
     },
     "execution_count": 18,
     "metadata": {},
     "output_type": "execute_result"
    }
   ],
   "source": [
    "def prime_check(n, li):\n",
    "    if n <= 1:\n",
    "        return f\"{n} not a prime number\"\n",
    "    else:\n",
    "        for x in range(2, n + 1):\n",
    "            flag = True\n",
    "            for y in range(2, int(x ** 0.5) + 1):\n",
    "                if x % y == 0:\n",
    "                    flag = False\n",
    "        if flag:\n",
    "            li.append(x)\n",
    "    return bool(True if n in li else False)\n",
    "prime_check(11, [])"
   ]
  },
  {
   "cell_type": "code",
   "execution_count": 34,
   "metadata": {},
   "outputs": [
    {
     "data": {
      "text/plain": [
       "True"
      ]
     },
     "execution_count": 34,
     "metadata": {},
     "output_type": "execute_result"
    }
   ],
   "source": [
    "def anagram(st1, st2):\n",
    "    return bool(True if sorted(st1.lower().replace(\" \", \"\")) == sorted(st2.lower().replace(\" \", \"\")) else False)\n",
    "anagram(\"listen\", \"silent\")"
   ]
  },
  {
   "cell_type": "code",
   "execution_count": 86,
   "metadata": {},
   "outputs": [
    {
     "data": {
      "text/plain": [
       "[5, 1, 2, 3, 4]"
      ]
     },
     "execution_count": 86,
     "metadata": {},
     "output_type": "execute_result"
    }
   ],
   "source": [
    "def frequency_check(li, dict1):\n",
    "    for i in li:\n",
    "        if i in dict1:\n",
    "            dict1[i] += 1\n",
    "        else:\n",
    "            dict1[i] = 1\n",
    "    return sorted(dict1, key = lambda x : dict1[x], reverse = False)\n",
    "frequency_check([1,2,3,3,1,2,4,5,4], {})"
   ]
  },
  {
   "cell_type": "code",
   "execution_count": null,
   "metadata": {},
   "outputs": [],
   "source": []
  },
  {
   "cell_type": "code",
   "execution_count": 57,
   "metadata": {},
   "outputs": [
    {
     "data": {
      "text/plain": [
       "[1, 2, 3, 4, 5, 6]"
      ]
     },
     "execution_count": 57,
     "metadata": {},
     "output_type": "execute_result"
    }
   ],
   "source": [
    "def sorted_list(l1, l2,l3):\n",
    "    l3 = list(l1 + l2)\n",
    "    def inner_function(l3):\n",
    "        if len(l3) <= 1:\n",
    "            return l3\n",
    "        pivot = l3[-1]\n",
    "        left = [i for i in l3[:-1] if i <= pivot]\n",
    "        right = [i for i in l3[:-1] if i > pivot]\n",
    "        result =  inner_function(left) + [pivot] + inner_function(right)\n",
    "        return result\n",
    "    return inner_function(l3)\n",
    "sorted_list([1, 3, 5],[2, 4, 6],[])"
   ]
  },
  {
   "cell_type": "code",
   "execution_count": 130,
   "metadata": {},
   "outputs": [
    {
     "name": "stdout",
     "output_type": "stream",
     "text": [
      "This is pivot 2\n",
      "This is left [1, 2]\n",
      "This is right [4, 3, 6]\n",
      "This is pivot 2\n",
      "This is left [1]\n",
      "This is right []\n",
      "this is result [1, 2]\n",
      "This is pivot 6\n",
      "This is left [4, 3]\n",
      "This is right []\n",
      "This is pivot 3\n",
      "This is left []\n",
      "This is right [4]\n",
      "this is result [3, 4]\n",
      "this is result [3, 4, 6]\n",
      "this is result [1, 2, 2, 3, 4, 6]\n"
     ]
    },
    {
     "data": {
      "text/plain": [
       "[1, 2, 2, 3, 4, 6]"
      ]
     },
     "execution_count": 130,
     "metadata": {},
     "output_type": "execute_result"
    }
   ],
   "source": [
    "def merge_two_lists(l1, l2, l3):\n",
    "    l3 = list(l1 + l2)\n",
    "    def inner_function(l3):\n",
    "        if len(l3) <= 1:\n",
    "            return l3\n",
    "        pivot = l3[-1]\n",
    "        print(f\"This is pivot {pivot}\")\n",
    "        left = [x for x in l3[:-1] if x <= pivot]\n",
    "        right = [x for x in l3[:-1] if x > pivot]\n",
    "        print(f\"This is left {left}\")\n",
    "        print(f\"This is right {right}\")\n",
    "        result = inner_function(left) + [pivot] + inner_function(right)\n",
    "        print(f\"this is result {result}\")\n",
    "        return result\n",
    "    return inner_function(l3)\n",
    "merge_two_lists([1, 2, 4],[3, 6, 2],[])"
   ]
  },
  {
   "cell_type": "code",
   "execution_count": 136,
   "metadata": {},
   "outputs": [
    {
     "data": {
      "text/plain": [
       "False"
      ]
     },
     "execution_count": 136,
     "metadata": {},
     "output_type": "execute_result"
    }
   ],
   "source": [
    "def palindrome(st):\n",
    "    return bool(True if st.lower().replace(\" \", \"\") == st.lower().replace(\" \",\"\")[::-1] else False)\n",
    "palindrome(\"A man a plan a canal Panamaa\")"
   ]
  },
  {
   "cell_type": "code",
   "execution_count": null,
   "metadata": {},
   "outputs": [
    {
     "data": {
      "text/plain": [
       "[1, 2, 3, 4, 5]"
      ]
     },
     "execution_count": 145,
     "metadata": {},
     "output_type": "execute_result"
    }
   ],
   "source": [
    "def duplicates(li, l3):\n",
    "    for i in li:\n",
    "        if i not in l3:\n",
    "            l3.append(i)\n",
    "    return l3\n",
    "duplicates([1, 2, 2, 3, 4, 4, 5], [])"
   ]
  },
  {
   "cell_type": "code",
   "execution_count": 157,
   "metadata": {},
   "outputs": [
    {
     "name": "stdout",
     "output_type": "stream",
     "text": [
      "3\n"
     ]
    }
   ],
   "source": [
    "def missing(li):\n",
    "    for i in range(min(li), max(li) + 1):\n",
    "        if i not in li:\n",
    "            print(i)\n",
    "missing([1, 2, 4, 5])"
   ]
  },
  {
   "cell_type": "code",
   "execution_count": 161,
   "metadata": {},
   "outputs": [
    {
     "data": {
      "text/plain": [
       "Counter({'l': 2, 'h': 1, 'e': 1, 'o': 1})"
      ]
     },
     "execution_count": 161,
     "metadata": {},
     "output_type": "execute_result"
    }
   ],
   "source": [
    "from collections import Counter\n",
    "st = 'hello'\n",
    "def word_frequency(st):\n",
    "    return Counter(st)\n",
    "word_frequency(st)"
   ]
  },
  {
   "cell_type": "code",
   "execution_count": 169,
   "metadata": {},
   "outputs": [
    {
     "data": {
      "text/plain": [
       "{'c': 3, 'a': 5, 'b': 2}"
      ]
     },
     "execution_count": 169,
     "metadata": {},
     "output_type": "execute_result"
    }
   ],
   "source": [
    "dict1 = {'a' : 1, 'b' : 2}\n",
    "dict2 = {'c' : 3, 'a' : 4}\n",
    "dict3 = dict(Counter(dict2) + Counter(dict1))\n",
    "dict3"
   ]
  },
  {
   "cell_type": "code",
   "execution_count": 187,
   "metadata": {},
   "outputs": [
    {
     "name": "stdout",
     "output_type": "stream",
     "text": [
      "['\\n']\n"
     ]
    }
   ],
   "source": [
    "def read_file(file_name):\n",
    "    with open(file_name, 'r') as f:\n",
    "        f.seek(len(f.read()) + 2)\n",
    "        print(f.readlines())\n",
    "read_file('sample.txt')"
   ]
  },
  {
   "cell_type": "code",
   "execution_count": 202,
   "metadata": {},
   "outputs": [
    {
     "data": {
      "text/plain": [
       "['25', '180']"
      ]
     },
     "execution_count": 202,
     "metadata": {},
     "output_type": "execute_result"
    }
   ],
   "source": [
    "from re import search, compile, findall, finditer\n",
    "\n",
    "def extract_numbers(st):\n",
    "    pattern = compile(r\"\\b\\d{1,}\\b\")\n",
    "    match = findall(pattern, st)\n",
    "    '''\n",
    "    for i in finditer(pattern, st):\n",
    "        print(i.group())\n",
    "    '''\n",
    "    return match\n",
    "extract_numbers(\"Age: 25, Height: 180\")"
   ]
  },
  {
   "cell_type": "code",
   "execution_count": 213,
   "metadata": {},
   "outputs": [
    {
     "data": {
      "text/plain": [
       "'c:\\\\Users\\\\gagan\\\\Downloads\\\\Spark\\\\CLFP013\\\\sample\\\\sample.txt'"
      ]
     },
     "execution_count": 213,
     "metadata": {},
     "output_type": "execute_result"
    }
   ],
   "source": [
    "from shutil import copy, make_archive, unpack_archive\n",
    "from os import getcwd, walk, makedirs\n",
    "\n",
    "#path = makedirs(r'c:\\\\Users\\\\gagan\\\\Downloads\\\\Spark\\\\CLFP013\\\\sample')\n",
    "path = 'c:\\\\Users\\\\gagan\\\\Downloads\\\\Spark\\\\CLFP013\\\\sample'\n",
    "\n",
    "copy(getcwd() + '\\\\sample.txt', path)"
   ]
  },
  {
   "cell_type": "code",
   "execution_count": 226,
   "metadata": {},
   "outputs": [],
   "source": [
    "#make_archive(\"c:\\\\Users\\\\gagan\\\\Downloads\\\\Spark\\\\Bpython\", 'zip', 'c:\\\\Users\\\\gagan\\\\Downloads\\\\Spark\\\\CLFP013')"
   ]
  },
  {
   "cell_type": "code",
   "execution_count": 223,
   "metadata": {},
   "outputs": [
    {
     "data": {
      "text/plain": [
       "'c:\\\\Users\\\\gagan\\\\Downloads\\\\Spark\\\\CLFP013'"
      ]
     },
     "execution_count": 223,
     "metadata": {},
     "output_type": "execute_result"
    }
   ],
   "source": [
    "getcwd()"
   ]
  },
  {
   "cell_type": "code",
   "execution_count": 224,
   "metadata": {},
   "outputs": [],
   "source": [
    "unpack_archive(\"C:\\\\Users\\\\gagan\\\\Downloads\\\\Spark\\\\CLFP013.zip\", 'C:\\\\Users\\\\gagan\\\\Downloads\\\\Spark\\\\BPython', 'zip')"
   ]
  },
  {
   "cell_type": "code",
   "execution_count": 252,
   "metadata": {},
   "outputs": [
    {
     "data": {
      "text/plain": [
       "True"
      ]
     },
     "execution_count": 252,
     "metadata": {},
     "output_type": "execute_result"
    }
   ],
   "source": [
    "#gagan.km@hotmail.com.uk\n",
    "def email_validation(st):\n",
    "    pattern = compile(r\"\\b[\\w.-]+@[\\w.-]+\\.[a-zA-Z]{1,}\\b\")\n",
    "    match = findall(pattern, st)\n",
    "    if match:\n",
    "        return True\n",
    "    else:\n",
    "        return False\n",
    "email_validation('this is a test.gagan@example.com.uk and gagankm21@gmail.com')\n",
    "    "
   ]
  },
  {
   "cell_type": "code",
   "execution_count": 259,
   "metadata": {},
   "outputs": [
    {
     "data": {
      "text/plain": [
       "3628800"
      ]
     },
     "execution_count": 259,
     "metadata": {},
     "output_type": "execute_result"
    }
   ],
   "source": [
    "def factorial(n, fact = 1):\n",
    "    for i in range(1, n+1):\n",
    "        fact = fact * i\n",
    "    return fact\n",
    "factorial(10)"
   ]
  },
  {
   "cell_type": "code",
   "execution_count": 272,
   "metadata": {},
   "outputs": [
    {
     "name": "stdout",
     "output_type": "stream",
     "text": [
      "['CLFP01301.ipynb', 'CLFP01302.ipynb', 'CLFP01303.ipynb', 'CLFP01304.ipynb', 'CLFP01305.ipynb', 'CLFP01306.ipynb', 'Coding Questions Python.docx', 'Coding Questions Python.pdf', 'filesample1.txt', 'sample.txt', 'sample.zip', 'sample1.txt', '~$ding Questions Python.docx', '~WRL0003.tmp']\n",
      "['CLFP01301.ipynb', 'CLFP01302.ipynb', 'CLFP01303.ipynb', 'CLFP01304.ipynb', 'CLFP01305.ipynb', 'commands.txt', 'README.md']\n",
      "['COMMIT_EDITMSG', 'config', 'description', 'HEAD', 'index', 'packed-refs']\n",
      "['applypatch-msg.sample', 'commit-msg.sample', 'fsmonitor-watchman.sample', 'post-update.sample', 'pre-applypatch.sample', 'pre-commit.sample', 'pre-merge-commit.sample', 'pre-push.sample', 'pre-rebase.sample', 'pre-receive.sample', 'prepare-commit-msg.sample', 'push-to-checkout.sample', 'sendemail-validate.sample', 'update.sample']\n",
      "['exclude']\n",
      "['HEAD']\n",
      "[]\n",
      "['main', 'my-private-branch']\n",
      "[]\n",
      "['HEAD', 'main', 'my-private-branch']\n",
      "[]\n",
      "['817183d0e1a9979efadab87dcb40e6ddb38819']\n",
      "['cab1ac2d528661568bbab23b406ef7203cacf0']\n",
      "['5ba5964b80cec3f0d06503a1dbda1f2c88fb80']\n",
      "['497808c5023ab7037d138f5724d4b0b0fb2b18']\n",
      "['6cfb02b64070cf22fddc63abacd4f29e333b60', 'd8287ea9b723297ca0aec634de86d3f2682869']\n",
      "['ab28908ab2642b56a41c79efeb2d555f340365']\n",
      "['39989517eb3dd9586e4763475b74bb6e3433ec']\n",
      "['f53d4794f87fb9e9018f9618c2e128e17c842e']\n",
      "['51b289342732eccc470e198f9660745f70a266']\n",
      "['5b80f1b19fc7f9fd59578778affc1a7da1c5b3']\n",
      "['59001c0846cd95b2bbbc584c14a154d508c873']\n",
      "['ae5afcafe8e3dd247cb9b19e64b4411b93b878']\n",
      "['06a755c1328f10e19ad17918e9a910fb8183dd']\n",
      "['745dfe000aaf0f7f86bd7dba4db806f98996b4']\n",
      "['6f9d976b9aa6c2b0aa94066f207eb12da551b3']\n",
      "['3509b30afae8958708e34741e6e0f7181e9de5']\n",
      "['97511b9dab8cdc07cd6eac7cd8bd91ee3b35f9']\n",
      "['e3caba768f2cd818b7560baacfc8bd5e3a23a0']\n",
      "['28398bf553bf56c98a8742c5529d2b5757d1d5']\n",
      "[]\n",
      "['pack-6fbe9710bc9a1ba9f7fc98a7a4b9b966080c937e.idx', 'pack-6fbe9710bc9a1ba9f7fc98a7a4b9b966080c937e.pack', 'pack-6fbe9710bc9a1ba9f7fc98a7a4b9b966080c937e.rev']\n",
      "[]\n",
      "['main', 'my-private-branch']\n",
      "[]\n",
      "['HEAD', 'main', 'my-private-branch']\n",
      "[]\n",
      "['sample.txt']\n"
     ]
    }
   ],
   "source": [
    "for folders, subfolders, files in walk(getcwd()):\n",
    "    print(f\"{[i for i in files]}\")"
   ]
  },
  {
   "cell_type": "code",
   "execution_count": 278,
   "metadata": {},
   "outputs": [
    {
     "name": "stdout",
     "output_type": "stream",
     "text": [
      "3\n"
     ]
    }
   ],
   "source": [
    "def most_common(li):\n",
    "    print(max(Counter(li)))\n",
    "most_common([1, 2, 2, 3, 3, 3])"
   ]
  },
  {
   "cell_type": "code",
   "execution_count": 295,
   "metadata": {},
   "outputs": [
    {
     "name": "stdout",
     "output_type": "stream",
     "text": [
      "['python', 'is', 'a', 'language']\n"
     ]
    },
    {
     "data": {
      "text/plain": [
       "True"
      ]
     },
     "execution_count": 295,
     "metadata": {},
     "output_type": "execute_result"
    }
   ],
   "source": [
    "def only_alphabets(st):\n",
    "    patten = r\"\\b[a-zA-Z]{1,}\\b\"\n",
    "    match = findall(patten, st)\n",
    "    if match:\n",
    "        print(match)\n",
    "        return True\n",
    "    else:\n",
    "        return False\n",
    "only_alphabets('python is a language')\n"
   ]
  },
  {
   "cell_type": "code",
   "execution_count": null,
   "metadata": {},
   "outputs": [
    {
     "ename": "FileNotFoundError",
     "evalue": "[Errno 2] No such file or directory: 'c:\\\\Users\\\\gagan\\\\Downloads\\\\Spark\\\\CLFP013\\\\CLFP013\\\\Daily_Code_Bytes'",
     "output_type": "error",
     "traceback": [
      "\u001b[1;31m---------------------------------------------------------------------------\u001b[0m",
      "\u001b[1;31mFileNotFoundError\u001b[0m                         Traceback (most recent call last)",
      "Cell \u001b[1;32mIn[298], line 1\u001b[0m\n\u001b[1;32m----> 1\u001b[0m copy(\u001b[38;5;124m'\u001b[39m\u001b[38;5;124mc:\u001b[39m\u001b[38;5;130;01m\\\\\u001b[39;00m\u001b[38;5;124mUsers\u001b[39m\u001b[38;5;130;01m\\\\\u001b[39;00m\u001b[38;5;124mgagan\u001b[39m\u001b[38;5;130;01m\\\\\u001b[39;00m\u001b[38;5;124mDownloads\u001b[39m\u001b[38;5;130;01m\\\\\u001b[39;00m\u001b[38;5;124mSpark\u001b[39m\u001b[38;5;130;01m\\\\\u001b[39;00m\u001b[38;5;124mCLFP013\u001b[39m\u001b[38;5;130;01m\\\\\u001b[39;00m\u001b[38;5;124mCLFP01306.ipynb\u001b[39m\u001b[38;5;124m'\u001b[39m, \u001b[38;5;124m'\u001b[39m\u001b[38;5;124mc:\u001b[39m\u001b[38;5;130;01m\\\\\u001b[39;00m\u001b[38;5;124mUsers\u001b[39m\u001b[38;5;130;01m\\\\\u001b[39;00m\u001b[38;5;124mgagan\u001b[39m\u001b[38;5;130;01m\\\\\u001b[39;00m\u001b[38;5;124mDownloads\u001b[39m\u001b[38;5;130;01m\\\\\u001b[39;00m\u001b[38;5;124mSpark\u001b[39m\u001b[38;5;130;01m\\\\\u001b[39;00m\u001b[38;5;124mCLFP013\u001b[39m\u001b[38;5;130;01m\\\\\u001b[39;00m\u001b[38;5;124mCLFP013\u001b[39m\u001b[38;5;130;01m\\\\\u001b[39;00m\u001b[38;5;124mDaily_Code_Bytes\u001b[39m\u001b[38;5;124m'\u001b[39m)\n",
      "File \u001b[1;32mc:\\ProgramData\\anaconda3\\Lib\\shutil.py:419\u001b[0m, in \u001b[0;36mcopy\u001b[1;34m(src, dst, follow_symlinks)\u001b[0m\n\u001b[0;32m    417\u001b[0m \u001b[38;5;28;01mif\u001b[39;00m os\u001b[38;5;241m.\u001b[39mpath\u001b[38;5;241m.\u001b[39misdir(dst):\n\u001b[0;32m    418\u001b[0m     dst \u001b[38;5;241m=\u001b[39m os\u001b[38;5;241m.\u001b[39mpath\u001b[38;5;241m.\u001b[39mjoin(dst, os\u001b[38;5;241m.\u001b[39mpath\u001b[38;5;241m.\u001b[39mbasename(src))\n\u001b[1;32m--> 419\u001b[0m copyfile(src, dst, follow_symlinks\u001b[38;5;241m=\u001b[39mfollow_symlinks)\n\u001b[0;32m    420\u001b[0m copymode(src, dst, follow_symlinks\u001b[38;5;241m=\u001b[39mfollow_symlinks)\n\u001b[0;32m    421\u001b[0m \u001b[38;5;28;01mreturn\u001b[39;00m dst\n",
      "File \u001b[1;32mc:\\ProgramData\\anaconda3\\Lib\\shutil.py:258\u001b[0m, in \u001b[0;36mcopyfile\u001b[1;34m(src, dst, follow_symlinks)\u001b[0m\n\u001b[0;32m    256\u001b[0m \u001b[38;5;28;01mwith\u001b[39;00m \u001b[38;5;28mopen\u001b[39m(src, \u001b[38;5;124m'\u001b[39m\u001b[38;5;124mrb\u001b[39m\u001b[38;5;124m'\u001b[39m) \u001b[38;5;28;01mas\u001b[39;00m fsrc:\n\u001b[0;32m    257\u001b[0m     \u001b[38;5;28;01mtry\u001b[39;00m:\n\u001b[1;32m--> 258\u001b[0m         \u001b[38;5;28;01mwith\u001b[39;00m \u001b[38;5;28mopen\u001b[39m(dst, \u001b[38;5;124m'\u001b[39m\u001b[38;5;124mwb\u001b[39m\u001b[38;5;124m'\u001b[39m) \u001b[38;5;28;01mas\u001b[39;00m fdst:\n\u001b[0;32m    259\u001b[0m             \u001b[38;5;66;03m# macOS\u001b[39;00m\n\u001b[0;32m    260\u001b[0m             \u001b[38;5;28;01mif\u001b[39;00m _HAS_FCOPYFILE:\n\u001b[0;32m    261\u001b[0m                 \u001b[38;5;28;01mtry\u001b[39;00m:\n",
      "\u001b[1;31mFileNotFoundError\u001b[0m: [Errno 2] No such file or directory: 'c:\\\\Users\\\\gagan\\\\Downloads\\\\Spark\\\\CLFP013\\\\CLFP013\\\\Daily_Code_Bytes'"
     ]
    }
   ],
   "source": [
    "copy('c:\\\\Users\\\\gagan\\\\Downloads\\\\Spark\\\\CLFP013\\\\CLFP01306.ipynb', 'c:\\\\Users\\\\gagan\\\\Downloads\\\\Spark\\\\CLFP013\\\\Daily_Code_Bytes')"
   ]
  }
 ],
 "metadata": {
  "kernelspec": {
   "display_name": "base",
   "language": "python",
   "name": "python3"
  },
  "language_info": {
   "codemirror_mode": {
    "name": "ipython",
    "version": 3
   },
   "file_extension": ".py",
   "mimetype": "text/x-python",
   "name": "python",
   "nbconvert_exporter": "python",
   "pygments_lexer": "ipython3",
   "version": "3.11.7"
  }
 },
 "nbformat": 4,
 "nbformat_minor": 2
}
