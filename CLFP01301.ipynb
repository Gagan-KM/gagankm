{
 "cells": [
  {
   "cell_type": "code",
   "execution_count": 7,
   "metadata": {},
   "outputs": [
    {
     "name": "stdout",
     "output_type": "stream",
     "text": [
      "the second largest element in the list is : 5\n"
     ]
    }
   ],
   "source": [
    "''' \n",
    "1. Find Second Largest Number \n",
    "Function: second_largest(nums: List[int]) -> int \n",
    "Input: [4, 1, 7, 9, 3, 9] \n",
    "Output: 7 \n",
    "Note: Implement without using sort(). \n",
    "'''\n",
    "\n",
    "li = [1,2,3,4,5,6]\n",
    "def second_largest(li):\n",
    "    mli = max(li)\n",
    "    return max([i for i in li if i != mli])\n",
    "print(f\"the second largest element in the list is : {second_largest(li)}\")\n"
   ]
  },
  {
   "cell_type": "code",
   "execution_count": 8,
   "metadata": {},
   "outputs": [
    {
     "name": "stdout",
     "output_type": "stream",
     "text": [
      "the updates list by removing duplicates is [1, 2, 3, 4]\n"
     ]
    }
   ],
   "source": [
    "''' \n",
    "2. Remove Duplicates (Maintain Order) \n",
    "Function: remove_duplicates(nums: List[int]) -> List[int] \n",
    "Input: [1, 2, 3, 2, 4, 1] \n",
    "Output: [1, 2, 3, 4]\n",
    "'''\n",
    "\n",
    "li = [1, 2, 3, 2, 4, 1] \n",
    "uli = set()\n",
    "def remove_duplicates(li):\n",
    "    return list(set(li))\n",
    "    #return [i for i in li if not (i in uli or uli.add(i))]\n",
    "print(f\"the updates list by removing duplicates is {remove_duplicates(li)}\")\n"
   ]
  },
  {
   "cell_type": "code",
   "execution_count": 9,
   "metadata": {},
   "outputs": [
    {
     "data": {
      "text/plain": [
       "{'a': 3, 'b': 7, 'c': 8}"
      ]
     },
     "execution_count": 9,
     "metadata": {},
     "output_type": "execute_result"
    }
   ],
   "source": [
    "\n",
    "\n",
    "'''\n",
    "3. Merge Dictionaries by Summing Common Keys \n",
    "Function: merge_dicts(d1: Dict[str, int], d2: Dict[str, int]) -> Dict[str, int] \n",
    "Input: {\"a\": 3, \"b\": 5}, {\"b\": 2, \"c\": 8} \n",
    "Output: {\"a\": 3, \"b\": 7, \"c\": 8}\n",
    "'''\n",
    "\n",
    "dict1 = {\"a\": 3, \"b\": 5}\n",
    "dict2 = {\"b\": 2, \"c\": 8}\n",
    "def merge_dictionary(dict1, dict2):\n",
    "    for key, value in dict2.items():\n",
    "        if key in dict1:\n",
    "            dict1[key] = dict1[key] + value\n",
    "        else:\n",
    "            dict1[key] = value\n",
    "    return dict1\n",
    "merge_dictionary(dict1, dict2)\n"
   ]
  },
  {
   "cell_type": "code",
   "execution_count": 10,
   "metadata": {},
   "outputs": [
    {
     "name": "stdout",
     "output_type": "stream",
     "text": [
      "[1, 9, 3, 4]\n"
     ]
    }
   ],
   "source": [
    "'''\n",
    "4. Tuple to List Modification \n",
    "Function: modify_tuple(t: Tuple[int, ...], index: int, value: int) -> List[int] \n",
    "Input: (1, 2, 3, 4), 1, 9 \n",
    "Output: [1, 9, 3, 4] \n",
    "'''\n",
    "\n",
    "from typing import List, Tuple\n",
    "def modify_tuple(tu: Tuple[int, ...], index: int, value: int) -> List[int]:\n",
    "    li = list(tu)\n",
    "    li[index] = value\n",
    "    return li\n",
    "print(modify_tuple((1, 2, 3, 4), 1, 9))\n"
   ]
  },
  {
   "cell_type": "code",
   "execution_count": 11,
   "metadata": {},
   "outputs": [
    {
     "name": "stdout",
     "output_type": "stream",
     "text": [
      "2\n",
      "3\n",
      "5\n",
      "7\n",
      "11\n",
      "13\n",
      "17\n",
      "19\n",
      "23\n",
      "29\n",
      "31\n",
      "37\n",
      "41\n",
      "43\n",
      "47\n",
      "53\n",
      "59\n",
      "61\n",
      "67\n",
      "71\n",
      "73\n",
      "79\n",
      "83\n",
      "89\n",
      "97\n"
     ]
    },
    {
     "data": {
      "text/plain": [
       "25"
      ]
     },
     "execution_count": 11,
     "metadata": {},
     "output_type": "execute_result"
    }
   ],
   "source": [
    "'''\n",
    "5. Find Prime Numbers (1 to 100) - OOP Approach \n",
    "Class: PrimeFinder \n",
    "Method: find_primes(self) -> List[int] \n",
    "Input: obj = PrimeFinder(); obj.find_primes() \n",
    "Output: [2, 3, 5, 7, ..., 97] \n",
    "'''\n",
    "\n",
    "class PrimeFinder():\n",
    "    count = 0\n",
    "    def __init__(self, num):\n",
    "        self.n = num\n",
    "    \n",
    "    def find_prime(self):\n",
    "        for i in range(2, self.n + 1):\n",
    "            flag = True\n",
    "            for j in range(2, int(i ** 0.5) + 1):\n",
    "                if i % j == 0:\n",
    "                    flag = False\n",
    "                    break \n",
    "            if flag:\n",
    "                PrimeFinder.count += 1\n",
    "                print(f\"{i}\")\n",
    "        return PrimeFinder.count\n",
    "    \n",
    "pf = PrimeFinder(100)\n",
    "pf.find_prime()\n"
   ]
  },
  {
   "cell_type": "code",
   "execution_count": 12,
   "metadata": {},
   "outputs": [
    {
     "data": {
      "text/plain": [
       "[True]"
      ]
     },
     "execution_count": 12,
     "metadata": {},
     "output_type": "execute_result"
    }
   ],
   "source": [
    "\n",
    "'''\n",
    "6. Palindrome Checker - OOP Approach \n",
    "Class: PalindromeChecker \n",
    "Method: is_palindrome(self, s: str) -> bool \n",
    "Input: \"level\" \n",
    "Output: True \n",
    "'''\n",
    "\n",
    "class PalindromeChecker():\n",
    "    def __init__(self, str1):\n",
    "        self.s = str1\n",
    "    def is_palindrome(self):\n",
    "        return [True if self.s.lower().replace(\" \", \"\") == self.s.lower().replace(\" \",\"\")[::-1] else False]\n",
    "pc = PalindromeChecker(\"malayalam\")\n",
    "pc.is_palindrome()\n"
   ]
  },
  {
   "cell_type": "code",
   "execution_count": 13,
   "metadata": {},
   "outputs": [
    {
     "data": {
      "text/plain": [
       "[True]"
      ]
     },
     "execution_count": 13,
     "metadata": {},
     "output_type": "execute_result"
    }
   ],
   "source": [
    "'''\n",
    "7. Even Check Without % Operator \n",
    "Function: is_even(n: int) -> bool \n",
    "Input: 8 \n",
    "Output: True\n",
    "'''\n",
    "\n",
    "def is_even(num):\n",
    "    return [False if num in range(1, num + 1, 2) else True]\n",
    "is_even(0)\n"
   ]
  },
  {
   "cell_type": "code",
   "execution_count": 14,
   "metadata": {},
   "outputs": [
    {
     "data": {
      "text/plain": [
       "15"
      ]
     },
     "execution_count": 14,
     "metadata": {},
     "output_type": "execute_result"
    }
   ],
   "source": [
    "'''\n",
    "8. Sum of Variable Arguments (*args) \n",
    "Function: sum_args(*args: int) -> int \n",
    "Input: sum_args(1, 2, 3, 4, 5) \n",
    "Output: 15\n",
    "'''\n",
    "\n",
    "def sum_args(*args):\n",
    "    return sum(args)\n",
    "sum_args(1, 2, 3, 4, 5)\n"
   ]
  },
  {
   "cell_type": "code",
   "execution_count": 15,
   "metadata": {},
   "outputs": [
    {
     "data": {
      "text/plain": [
       "120"
      ]
     },
     "execution_count": 15,
     "metadata": {},
     "output_type": "execute_result"
    }
   ],
   "source": [
    "\n",
    "'''\n",
    "9. Recursive Factorial \n",
    "Function: factorial(n: int) -> int \n",
    "Input: 5 \n",
    "Output: 120\n",
    "'''\n",
    "\n",
    "def factorial(n):\n",
    "    fact = 1\n",
    "    for i in range(1, n + 1):\n",
    "        fact = fact * i\n",
    "    return fact\n",
    "factorial(5)\n"
   ]
  },
  {
   "cell_type": "code",
   "execution_count": 16,
   "metadata": {},
   "outputs": [
    {
     "name": "stdout",
     "output_type": "stream",
     "text": [
      "the sorted list [1, 2, 3, 4, 5, 6]\n"
     ]
    }
   ],
   "source": [
    "'''\n",
    "10. Merge Two Sorted Lists \n",
    "Function: merge_sorted_lists(l1: List[int], l2: List[int]) -> List[int] \n",
    "Input: [1, 3, 5], [2, 4, 6] \n",
    "Output: [1, 2, 3, 4, 5, 6] \n",
    "'''\n",
    "l1 = [1, 3, 5] \n",
    "l2 = [2, 4, 6] \n",
    "def merge_sorted_lists(l1, l2):\n",
    "    return sorted(list(l1 + l2))\n",
    "print(f\"the sorted list {merge_sorted_lists(l1, l2)}\")\n"
   ]
  },
  {
   "cell_type": "code",
   "execution_count": 17,
   "metadata": {},
   "outputs": [
    {
     "data": {
      "text/plain": [
       "[(1, 4), (2, 5), (3, 6)]"
      ]
     },
     "execution_count": 17,
     "metadata": {},
     "output_type": "execute_result"
    }
   ],
   "source": [
    "'''\n",
    "11. Pairing Elements from Two Lists (zip()) \n",
    "Function: pair_lists(l1: List[int], l2: List[int]) -> List[Tuple[int, int]] \n",
    "Input: [1, 2, 3], [4, 5, 6] \n",
    "Output: [(1,4), (2,5), (3,6)] \n",
    "'''\n",
    "l1 = [1, 2, 3]\n",
    "l2 = [4, 5, 6] \n",
    "def pair_lists(l1, l2):\n",
    "    return [(i, j) for i, j in zip(l1, l2)]\n",
    "pair_lists(l1, l2)\n"
   ]
  },
  {
   "cell_type": "code",
   "execution_count": 18,
   "metadata": {},
   "outputs": [
    {
     "name": "stdout",
     "output_type": "stream",
     "text": [
      "character frequency : {'m': 2, 'y': 1, 'n': 1, 'a': 2, 'e': 1, 'i': 2, 's': 2, 'r': 2, 't': 1, 'h': 1, 'u': 1} \n",
      "word frequency : {'my': 1, 'name': 1, 'is': 2, 'arthur': 1}\n"
     ]
    }
   ],
   "source": [
    "'''\n",
    "13. Character Frequency in String \n",
    "Function: char_frequency(s: str) -> Dict[str, int] \n",
    "Input: \"hello\" \n",
    "Output: {'h': 1, 'e': 1, 'l': 2, 'o': 1} \n",
    "'''\n",
    "\n",
    "def char_word_frequency(s):\n",
    "    dict1 = {}\n",
    "    dict2 = {}\n",
    "    for i in list(s.lower().replace(\" \",\"\")):\n",
    "        if i in dict1:\n",
    "            dict1[i] = dict1[i] + 1\n",
    "        else:\n",
    "            dict1[i] = 1\n",
    "    for i in s.lower().split(\" \"):\n",
    "        if i in dict2:\n",
    "            dict2[i] = dict2[i] + 1\n",
    "        else:\n",
    "            dict2[i] = 1\n",
    "    return (dict1, dict2)\n",
    "str1 = \"My name is is Arthur\"\n",
    "print(f\"character frequency : {char_word_frequency(str1)[0]} \\nword frequency : {char_word_frequency(str1)[1]}\")"
   ]
  },
  {
   "cell_type": "code",
   "execution_count": 20,
   "metadata": {},
   "outputs": [
    {
     "data": {
      "text/plain": [
       "11"
      ]
     },
     "execution_count": 20,
     "metadata": {},
     "output_type": "execute_result"
    }
   ],
   "source": [
    "'''\n",
    "14. Binary to Decimal Conversion \n",
    "Function: binary_to_decimal(binary_str: str) -> int \n",
    "Input: \"1011\" \n",
    "Output: 11 \n",
    "'''\n",
    "\n",
    "idx = [2 ** i for i in range(11)]\n",
    "def binary_to_decimal(ip):\n",
    "    ip = ip[::-1]\n",
    "    val = 0\n",
    "    for i in range(len(ip)):\n",
    "        if ip[i] == '0':\n",
    "            pass\n",
    "        else:\n",
    "            val = idx[i] + val\n",
    "    return val\n",
    "binary_to_decimal(\"1011\")"
   ]
  },
  {
   "cell_type": "code",
   "execution_count": 21,
   "metadata": {},
   "outputs": [
    {
     "data": {
      "text/plain": [
       "25"
      ]
     },
     "execution_count": 21,
     "metadata": {},
     "output_type": "execute_result"
    }
   ],
   "source": [
    "''' \n",
    "15. Lambda to Square Numbers \n",
    "Function: square_nums = lambda x: x*x \n",
    "Input: square_nums(5) \n",
    "Output: 25 \n",
    "'''\n",
    "\n",
    "square_nums = lambda x : x * x\n",
    "square_nums(5)"
   ]
  },
  {
   "cell_type": "code",
   "execution_count": 32,
   "metadata": {},
   "outputs": [
    {
     "data": {
      "text/plain": [
       "[2, 4, 6]"
      ]
     },
     "execution_count": 32,
     "metadata": {},
     "output_type": "execute_result"
    }
   ],
   "source": [
    "'''16. Filter Even Numbers Using filter() \n",
    "Function: filter_evens(lst: List[int]) -> List[int] \n",
    "Input: [1, 2, 3, 4, 5, 6] \n",
    "Output: [2, 4, 6] \n",
    "'''\n",
    "li = [1, 2, 3, 4, 5, 6]\n",
    "def filter_evens(li):\n",
    "    return list(filter(lambda x : x % 2 == 0, li))\n",
    "filter_evens(li)"
   ]
  },
  {
   "cell_type": "code",
   "execution_count": 53,
   "metadata": {},
   "outputs": [
    {
     "name": "stdout",
     "output_type": "stream",
     "text": [
      "Overwriting sample.txt\n"
     ]
    }
   ],
   "source": [
    "%%writefile sample.txt\n",
    "hello world.\n"
   ]
  },
  {
   "cell_type": "code",
   "execution_count": null,
   "metadata": {},
   "outputs": [
    {
     "name": "stdout",
     "output_type": "stream",
     "text": [
      "Hello,\n",
      "world!\n"
     ]
    }
   ],
   "source": [
    "\n",
    "'''17. File Reader \n",
    "Function: read_file(filename: str) -> List[str] \n",
    "Input: \"sample.txt\" \n",
    "Output: [\"Hello\", \"World\"] \n",
    "'''\n",
    "\n",
    "with open('sample.txt', 'w+') as f:\n",
    "    f.write(\"Hello, world!\")\n",
    "    f.seek(0)\n",
    "    for i in f.read().split(\" \"):\n",
    "        print(i)"
   ]
  },
  {
   "cell_type": "code",
   "execution_count": 55,
   "metadata": {},
   "outputs": [
    {
     "data": {
      "text/plain": [
       "[1, 3, 5]"
      ]
     },
     "execution_count": 55,
     "metadata": {},
     "output_type": "execute_result"
    }
   ],
   "source": [
    "'''18. Filter odd Numbers Using filter() \n",
    "Function: filter_odds(lst: List[int]) -> List[int] \n",
    "Input: [1, 2, 3, 4, 5, 6] \n",
    "Output: [1, 3, 5] \n",
    "'''\n",
    "\n",
    "def filter_odds(li):\n",
    "    return list(filter(lambda x : x % 2 != 0, li))\n",
    "filter_odds(li)\n"
   ]
  },
  {
   "cell_type": "code",
   "execution_count": null,
   "metadata": {},
   "outputs": [],
   "source": [
    "'''\n",
    "20. Dictionary Comprehension (Square Values) \n",
    "Input: {'a': 2, 'b': 3, 'c': 4} \n",
    "Output: {'a': 4, 'b': 9, 'c': 16} \n",
    "'''\n",
    "\n",
    "def dict_comp(dict1):\n",
    "    return {key:value*value for key, value in dict1.items()}\n",
    "dict_comp({'a': 2, 'b': 3, 'c': 4})"
   ]
  },
  {
   "cell_type": "code",
   "execution_count": 66,
   "metadata": {},
   "outputs": [
    {
     "data": {
      "text/plain": [
       "{'name': 'ALICE', 'city': 'PARIS'}"
      ]
     },
     "execution_count": 66,
     "metadata": {},
     "output_type": "execute_result"
    }
   ],
   "source": [
    "'''\n",
    "21. Convert Values to Uppercase\n",
    "Input: {'name': 'alice', 'city': 'paris'}\n",
    "Output: {'name': 'ALICE', 'city': 'PARIS'}\n",
    "'''\n",
    "\n",
    "def dict_comp(st):\n",
    "    return {key : str(value).upper() for key, value in st.items()}\n",
    "dict_comp({'name': 'alice', 'city': 'paris'})"
   ]
  },
  {
   "cell_type": "code",
   "execution_count": 69,
   "metadata": {},
   "outputs": [
    {
     "data": {
      "text/plain": [
       "{'a': 4, 'c': 16}"
      ]
     },
     "execution_count": 69,
     "metadata": {},
     "output_type": "execute_result"
    }
   ],
   "source": [
    "'''\n",
    "2. Square Only Even Values\n",
    "Input: {'a': 2, 'b': 3, 'c': 4, 'd': 5}\n",
    "Output: {'a': 4, 'c': 16}\n",
    "'''\n",
    "\n",
    "def square_only_evens(st):\n",
    "    return {key : value**2 for key, value in st.items() if value % 2 == 0}\n",
    "square_only_evens({'a': 2, 'b': 3, 'c': 4, 'd': 5})"
   ]
  },
  {
   "cell_type": "code",
   "execution_count": 71,
   "metadata": {},
   "outputs": [
    {
     "data": {
      "text/plain": [
       "{'a': 'hihi', 'b': 'hellohellohellohellohello'}"
      ]
     },
     "execution_count": 71,
     "metadata": {},
     "output_type": "execute_result"
    }
   ],
   "source": [
    "'''8. Multiply Values by Their Length (for Strings)\n",
    "Input: {'a': 'hi', 'b': 'hello'}\n",
    "Output: {'a': 'hihi', 'b': 'hellohellohellohellohello'}\n",
    "'''\n",
    "\n",
    "def multiply_by_length(st):\n",
    "    return {key : value *len(value) for key, value in st.items()}\n",
    "\n",
    "multiply_by_length({'a': 'hi', 'b': 'hello'})"
   ]
  },
  {
   "cell_type": "code",
   "execution_count": 75,
   "metadata": {},
   "outputs": [
    {
     "data": {
      "text/plain": [
       "{'a': 'yes', 'b': 'no', 'c': 'yes'}"
      ]
     },
     "execution_count": 75,
     "metadata": {},
     "output_type": "execute_result"
    }
   ],
   "source": [
    "'''7. Convert Boolean Values to Strings\n",
    "Input: {'a': True, 'b': False, 'c': True}\n",
    "Output: {'a': 'Yes', 'b': 'No', 'c': 'Yes'}\n",
    "'''\n",
    "\n",
    "def bool_to_string(st):\n",
    "    val = ['yes', 'no']\n",
    "    return {key : 'yes' if value else 'no' for key, value in st.items()}\n",
    "bool_to_string({'a': True, 'b': False, 'c': True})"
   ]
  }
 ],
 "metadata": {
  "kernelspec": {
   "display_name": "base",
   "language": "python",
   "name": "python3"
  },
  "language_info": {
   "codemirror_mode": {
    "name": "ipython",
    "version": 3
   },
   "file_extension": ".py",
   "mimetype": "text/x-python",
   "name": "python",
   "nbconvert_exporter": "python",
   "pygments_lexer": "ipython3",
   "version": "3.11.7"
  }
 },
 "nbformat": 4,
 "nbformat_minor": 2
}
