{
 "cells": [
  {
   "cell_type": "code",
   "execution_count": 38,
   "metadata": {},
   "outputs": [
    {
     "data": {
      "text/plain": [
       "8"
      ]
     },
     "execution_count": 38,
     "metadata": {},
     "output_type": "execute_result"
    }
   ],
   "source": [
    "def sum_of_two_numbers(n1, n2):\n",
    "    return n1 + n2\n",
    "sum_of_two_numbers(3, 5)"
   ]
  },
  {
   "cell_type": "code",
   "execution_count": 39,
   "metadata": {},
   "outputs": [
    {
     "data": {
      "text/plain": [
       "'olleh'"
      ]
     },
     "execution_count": 39,
     "metadata": {},
     "output_type": "execute_result"
    }
   ],
   "source": [
    "def string_reverse(s1):\n",
    "    idx = sorted(list(i for i in range(0, len(s1))), reverse = True)\n",
    "    rs1 = []\n",
    "    for i in idx:\n",
    "        rs1.append(s1[i])\n",
    "    return ''.join(rs1)\n",
    "string_reverse(\"hello\")\n",
    "\n",
    "\n"
   ]
  },
  {
   "cell_type": "code",
   "execution_count": 40,
   "metadata": {},
   "outputs": [
    {
     "data": {
      "text/plain": [
       "3"
      ]
     },
     "execution_count": 40,
     "metadata": {},
     "output_type": "execute_result"
    }
   ],
   "source": [
    "def count_vowels(s1):\n",
    "    vowels = \"aeiouAEIOU\"\n",
    "    return len(list(i for i in list(s1.lower().replace(\" \",\"\")) if i in vowels))\n",
    "count_vowels(\"hello world\")"
   ]
  },
  {
   "cell_type": "code",
   "execution_count": 41,
   "metadata": {},
   "outputs": [
    {
     "data": {
      "text/plain": [
       "15"
      ]
     },
     "execution_count": 41,
     "metadata": {},
     "output_type": "execute_result"
    }
   ],
   "source": [
    "def sum_of_elements(li):\n",
    "    sum = 0\n",
    "    for i in li:\n",
    "        sum += i\n",
    "    return sum\n",
    "sum_of_elements([1, 2, 3, 4, 5])"
   ]
  },
  {
   "cell_type": "code",
   "execution_count": 52,
   "metadata": {},
   "outputs": [
    {
     "data": {
      "text/plain": [
       "True"
      ]
     },
     "execution_count": 52,
     "metadata": {},
     "output_type": "execute_result"
    }
   ],
   "source": [
    "def find_dict(dict1, fkey):\n",
    "    return bool(True if fkey in dict1 else False)\n",
    "\n",
    "find_dict({\"a\": 1, \"b\": 2}, \"b\")"
   ]
  },
  {
   "cell_type": "code",
   "execution_count": 55,
   "metadata": {},
   "outputs": [
    {
     "data": {
      "text/plain": [
       "40"
      ]
     },
     "execution_count": 55,
     "metadata": {},
     "output_type": "execute_result"
    }
   ],
   "source": [
    "def sum_first_last(tup):\n",
    "    sum = 0\n",
    "    for i in tup:\n",
    "        if i == tup[0] or i == tup[-1]:\n",
    "            sum += i\n",
    "        else:\n",
    "            continue\n",
    "    return sum\n",
    "sum_first_last((10, 20, 30))\n"
   ]
  },
  {
   "cell_type": "code",
   "execution_count": 57,
   "metadata": {},
   "outputs": [
    {
     "data": {
      "text/plain": [
       "{2, 3}"
      ]
     },
     "execution_count": 57,
     "metadata": {},
     "output_type": "execute_result"
    }
   ],
   "source": [
    "def set_intersection(s1, s2):\n",
    "    return set(i for i in s1 if i in s2)\n",
    "set_intersection({1, 2, 3}, {2, 3, 4})"
   ]
  },
  {
   "cell_type": "code",
   "execution_count": 62,
   "metadata": {},
   "outputs": [
    {
     "name": "stdout",
     "output_type": "stream",
     "text": [
      "Overwriting sample.txt\n"
     ]
    }
   ],
   "source": [
    "%%writefile \"sample.txt\"\n",
    "hello world\n",
    "hello india\n",
    "hello gagan\n",
    "hello genpact\n"
   ]
  },
  {
   "cell_type": "code",
   "execution_count": 63,
   "metadata": {},
   "outputs": [
    {
     "data": {
      "text/plain": [
       "4"
      ]
     },
     "execution_count": 63,
     "metadata": {},
     "output_type": "execute_result"
    }
   ],
   "source": [
    "def line_count(file_name):\n",
    "    with open(file_name, 'r') as f:\n",
    "        return len(list(i for i in f.readlines()))\n",
    "line_count('sample.txt')"
   ]
  },
  {
   "cell_type": "code",
   "execution_count": 70,
   "metadata": {},
   "outputs": [
    {
     "data": {
      "text/plain": [
       "True"
      ]
     },
     "execution_count": 70,
     "metadata": {},
     "output_type": "execute_result"
    }
   ],
   "source": [
    "def greater(n1, n2):\n",
    "    return bool(True if n1 > n2 else False)\n",
    "greater(10, 5)"
   ]
  },
  {
   "cell_type": "code",
   "execution_count": 74,
   "metadata": {},
   "outputs": [
    {
     "data": {
      "text/plain": [
       "True"
      ]
     },
     "execution_count": 74,
     "metadata": {},
     "output_type": "execute_result"
    }
   ],
   "source": [
    "def chained_comparision(num):\n",
    "    return bool(True if num in range(1, (100 + 1)) else False)\n",
    "chained_comparision(50)"
   ]
  },
  {
   "cell_type": "code",
   "execution_count": 87,
   "metadata": {},
   "outputs": [
    {
     "name": "stdout",
     "output_type": "stream",
     "text": [
      "File copied successfully!\n"
     ]
    }
   ],
   "source": [
    "import shutil\n",
    "source = r\"C:\\Users\\gagan\\Downloads\\Spark\\CLFP013\\CLFP01304.ipynb\"\n",
    "destination = r\"C:\\Users\\gagan\\Downloads\\Spark\\CLFP013\\Daily_Code_Bytes\"\n",
    "shutil.copy(source, destination)\n",
    "print(\"File copied successfully!\")\n"
   ]
  },
  {
   "cell_type": "code",
   "execution_count": 3,
   "metadata": {},
   "outputs": [
    {
     "data": {
      "text/plain": [
       "'even'"
      ]
     },
     "execution_count": 3,
     "metadata": {},
     "output_type": "execute_result"
    }
   ],
   "source": [
    "def even_finder(num):\n",
    "    return str(\"even\" if num in range(0, num + 1, 2) else \"odd\")\n",
    "even_finder(8)\n"
   ]
  },
  {
   "cell_type": "code",
   "execution_count": 14,
   "metadata": {},
   "outputs": [
    {
     "data": {
      "text/plain": [
       "25"
      ]
     },
     "execution_count": 14,
     "metadata": {},
     "output_type": "execute_result"
    }
   ],
   "source": [
    "def prime_numbers(num):\n",
    "    count = 0\n",
    "    if num <= 1:\n",
    "        return f\"not a prime number\"\n",
    "    else:\n",
    "        for i in range(2, num + 1):\n",
    "            flag = True\n",
    "            for j in range(2, int(i ** 0.5) + 1):\n",
    "                if i % j == 0:\n",
    "                    flag = False\n",
    "            if flag:\n",
    "                #print(f\"{i}\")\n",
    "                count += 1\n",
    "    return count\n",
    "prime_numbers(100)"
   ]
  },
  {
   "cell_type": "code",
   "execution_count": 16,
   "metadata": {},
   "outputs": [
    {
     "name": "stdout",
     "output_type": "stream",
     "text": [
      "5\n",
      "4\n",
      "3\n",
      "2\n",
      "1\n"
     ]
    }
   ],
   "source": [
    "def print_numbers(num):\n",
    "    while True:\n",
    "        print(num)\n",
    "        num -= 1\n",
    "        if num <= 0:\n",
    "            break\n",
    "        else:\n",
    "            continue\n",
    "print_numbers(5)"
   ]
  },
  {
   "cell_type": "code",
   "execution_count": 18,
   "metadata": {},
   "outputs": [
    {
     "data": {
      "text/plain": [
       "[1, 4, 9, 16, 25]"
      ]
     },
     "execution_count": 18,
     "metadata": {},
     "output_type": "execute_result"
    }
   ],
   "source": [
    "def square_num(num):\n",
    "    return list(i * i for i in range(1, num + 1))\n",
    "square_num(5)"
   ]
  },
  {
   "cell_type": "code",
   "execution_count": null,
   "metadata": {},
   "outputs": [],
   "source": [
    "'''Write a function that simulates a guessing game. \\\n",
    "The function generates a random number between 1 and 10, and the user has to guess it.'''"
   ]
  },
  {
   "cell_type": "code",
   "execution_count": 26,
   "metadata": {},
   "outputs": [
    {
     "name": "stdout",
     "output_type": "stream",
     "text": [
      "Try harder bro!\n",
      "Try harder bro!\n",
      "Try harder bro!\n",
      "Try harder bro!\n"
     ]
    },
    {
     "data": {
      "text/plain": [
       "'you have exceeded the limit of attempts. Better luck next time!'"
      ]
     },
     "execution_count": 26,
     "metadata": {},
     "output_type": "execute_result"
    }
   ],
   "source": [
    "from random import randint\n",
    "def guessing_game():\n",
    "    #gnum = randint(1, (10 + 1))\n",
    "    gnum = 1\n",
    "    gcount = 0\n",
    "    while True:\n",
    "        n = int(input(\"enter the number : \"))\n",
    "        gcount += 1\n",
    "        if n == gnum:\n",
    "            return f\"you have guessed it correctly in {gcount}th try\"\n",
    "        elif gcount >= 5:\n",
    "            return \"you have exceeded the limit of attempts. Better luck next time!\"\n",
    "        else:\n",
    "            print(f\"Try harder bro!\")\n",
    "guessing_game()"
   ]
  },
  {
   "cell_type": "code",
   "execution_count": 29,
   "metadata": {},
   "outputs": [
    {
     "data": {
      "text/plain": [
       "25"
      ]
     },
     "execution_count": 29,
     "metadata": {},
     "output_type": "execute_result"
    }
   ],
   "source": [
    "def product_num(n1, n2 = 1):\n",
    "    return int(n1 *10 if n2 == 1 else n1 * n2)\n",
    "product_num(5, 5)"
   ]
  },
  {
   "cell_type": "code",
   "execution_count": 31,
   "metadata": {},
   "outputs": [
    {
     "data": {
      "text/plain": [
       "8"
      ]
     },
     "execution_count": 31,
     "metadata": {},
     "output_type": "execute_result"
    }
   ],
   "source": [
    "sum_of_two = lambda x, y: x + y\n",
    "sum_of_two(3, 5)"
   ]
  },
  {
   "cell_type": "code",
   "execution_count": 33,
   "metadata": {},
   "outputs": [
    {
     "data": {
      "text/plain": [
       "[1, 4, 9, 16]"
      ]
     },
     "execution_count": 33,
     "metadata": {},
     "output_type": "execute_result"
    }
   ],
   "source": [
    "def square_of_elements(li):\n",
    "    return list(map(lambda x : x *x, li))\n",
    "square_of_elements([1, 2, 3, 4])"
   ]
  },
  {
   "cell_type": "code",
   "execution_count": 35,
   "metadata": {},
   "outputs": [
    {
     "data": {
      "text/plain": [
       "[1, 3, 5]"
      ]
     },
     "execution_count": 35,
     "metadata": {},
     "output_type": "execute_result"
    }
   ],
   "source": [
    "def filter_even_numbers(li):\n",
    "    return list(filter(lambda x : x in range(1, len(li) + 1, 2), li))\n",
    "filter_even_numbers([1, 2, 3, 4, 5])"
   ]
  },
  {
   "cell_type": "code",
   "execution_count": 36,
   "metadata": {},
   "outputs": [
    {
     "data": {
      "text/plain": [
       "10"
      ]
     },
     "execution_count": 36,
     "metadata": {},
     "output_type": "execute_result"
    }
   ],
   "source": [
    "def outer_function(n):\n",
    "    def inner_function(n):\n",
    "        return n * 2\n",
    "    return inner_function(n)\n",
    "outer_function(5)"
   ]
  },
  {
   "cell_type": "code",
   "execution_count": 38,
   "metadata": {},
   "outputs": [
    {
     "data": {
      "text/plain": [
       "10"
      ]
     },
     "execution_count": 38,
     "metadata": {},
     "output_type": "execute_result"
    }
   ],
   "source": [
    "def sum_args(*args):\n",
    "    sum = 0\n",
    "    for i in args:\n",
    "        sum += i\n",
    "    return sum\n",
    "sum_args(1, 2, 3, 4)"
   ]
  },
  {
   "cell_type": "code",
   "execution_count": 40,
   "metadata": {},
   "outputs": [
    {
     "data": {
      "text/plain": [
       "{'a': 1, 'b': 2}"
      ]
     },
     "execution_count": 40,
     "metadata": {},
     "output_type": "execute_result"
    }
   ],
   "source": [
    "def dict_kwargs(**kwargs):\n",
    "    return kwargs\n",
    "dict_kwargs(a=1, b=2)"
   ]
  },
  {
   "cell_type": "code",
   "execution_count": 47,
   "metadata": {},
   "outputs": [
    {
     "name": "stdout",
     "output_type": "stream",
     "text": [
      "0\n",
      "1\n",
      "1\n",
      "2\n",
      "3\n",
      "5\n",
      "8\n",
      "13\n",
      "21\n",
      "34\n"
     ]
    }
   ],
   "source": [
    "def fibonacci_series(num):\n",
    "    a = 0\n",
    "    b = 1\n",
    "    for i in range(num):\n",
    "        print(a)\n",
    "        a, b = b, a + b\n",
    "fibonacci_series(10)"
   ]
  },
  {
   "cell_type": "code",
   "execution_count": 56,
   "metadata": {},
   "outputs": [
    {
     "data": {
      "text/plain": [
       "True"
      ]
     },
     "execution_count": 56,
     "metadata": {},
     "output_type": "execute_result"
    }
   ],
   "source": [
    "def prime_number_check(num):\n",
    "    li = []\n",
    "    if num <= 1:\n",
    "        return f\"it is not a prime number\"\n",
    "    else:\n",
    "        for i in range(2, num + 1):\n",
    "            flag = True\n",
    "            for j in range(2, int(i ** 0.5) + 1):\n",
    "                if i % j == 0:\n",
    "                    flag = False\n",
    "            if flag:\n",
    "                li.append(i)\n",
    "    return bool(True if num in li else False)\n",
    "\n",
    "prime_number_check(7)"
   ]
  },
  {
   "cell_type": "code",
   "execution_count": 64,
   "metadata": {},
   "outputs": [
    {
     "data": {
      "text/plain": [
       "{'a', 'b'}"
      ]
     },
     "execution_count": 64,
     "metadata": {},
     "output_type": "execute_result"
    }
   ],
   "source": []
  },
  {
   "cell_type": "code",
   "execution_count": 79,
   "metadata": {},
   "outputs": [
    {
     "data": {
      "text/plain": [
       "True"
      ]
     },
     "execution_count": 79,
     "metadata": {},
     "output_type": "execute_result"
    }
   ],
   "source": [
    "def anagram_check(st1, st2):\n",
    "    s1 = sorted(list(st1.lower().replace(\" \", \"\")), reverse = False)\n",
    "    s2 = sorted(list(st2.lower().replace(\" \", \"\")), reverse = False)\n",
    "    return bool(True if s1 == s2 else False) \n",
    "anagram_check(\"listen\", \"silent\")"
   ]
  },
  {
   "cell_type": "code",
   "execution_count": 127,
   "metadata": {},
   "outputs": [
    {
     "name": "stdout",
     "output_type": "stream",
     "text": [
      "Car object with make Toyota, model = Corolla, year = 2020\n"
     ]
    }
   ],
   "source": [
    "'''Problem 23: OOP - Class Definition\n",
    "Problem Statement: Define a class Car with attributes make, model, and year.\n",
    "Input: Car(\"Toyota\", \"Corolla\", 2020)\n",
    "Expected Output: Car object with make=Toyota, model=Corolla, year=2020\n",
    "'''\n",
    "\n",
    "class Car():\n",
    "    def __init__(self, make, model, year):\n",
    "        self.mk = make\n",
    "        self.mdl = model\n",
    "        self.yr = year\n",
    "\n",
    "    def __str__(self):\n",
    "        return f\"Car object with make {self.mk}, model = {self.mdl}, year = {self.yr}\"\n",
    "\n",
    "print(Car(\"Toyota\", \"Corolla\", 2020))"
   ]
  },
  {
   "cell_type": "code",
   "execution_count": 145,
   "metadata": {},
   "outputs": [
    {
     "name": "stdout",
     "output_type": "stream",
     "text": [
      "Toyota Corolla (2020)\n"
     ]
    }
   ],
   "source": [
    "'''Problem 24: OOP - Method\n",
    "Problem Statement: Add a method display_info to the Car class that prints the car's details.\n",
    "Input: Car(\"Toyota\", \"Corolla\", 2020).display_info()\n",
    "Expected Output: \"Toyota Corolla (2020)\"\n",
    "'''\n",
    "\n",
    "class Car():\n",
    "    def __init__(self, make, model, year):\n",
    "        self.mk = make\n",
    "        self.mdl = model\n",
    "        self.yr = year\n",
    "\n",
    "    def __str__(self):\n",
    "        return f\"Car object with make {self.mk}, model = {self.mdl}, year = {self.yr}\"\n",
    "    \n",
    "    def display(self):\n",
    "        print(f\"{self.mk} {self.mdl} ({self.yr})\")\n",
    "    \n",
    "cr = Car(\"Toyota\", \"Corolla\", 2020)\n",
    "cr.display()\n"
   ]
  },
  {
   "cell_type": "code",
   "execution_count": 150,
   "metadata": {},
   "outputs": [
    {
     "name": "stdout",
     "output_type": "stream",
     "text": [
      "ElectricCar object with battery_size = 100\n"
     ]
    }
   ],
   "source": [
    "'''Problem 25: OOP - Inheritance\n",
    "Problem Statement: Create a subclass ElectricCar that inherits from Car and adds an attribute battery_size.\n",
    "Input: ElectricCar(\"Tesla\", \"Model S\", 2023, 100)\n",
    "Expected Output: ElectricCar object with battery_size=100\n",
    "'''\n",
    "\n",
    "class ElectricCar(Car):\n",
    "\n",
    "    def __init__(self, make, model, year, battery_size = 0):\n",
    "        Car.__init__(self, make, model, year)\n",
    "        self.bt = battery_size\n",
    "    '''\n",
    "    def display(self):\n",
    "        #Car.display(self)\n",
    "        print(f\"ElectricCar object with {self.bt}\")\n",
    "    '''\n",
    "\n",
    "    def __str__(self):\n",
    "        return f\"ElectricCar object with battery_size = {self.bt}\"\n",
    "    \n",
    "print(ElectricCar(\"Tesla\", \"Model S\", 2023, 100))\n"
   ]
  },
  {
   "cell_type": "code",
   "execution_count": null,
   "metadata": {},
   "outputs": [
    {
     "name": "stdout",
     "output_type": "stream",
     "text": [
      "Tesla Model S 2023 with 100 kWh battery\n"
     ]
    }
   ],
   "source": [
    "'''Problem Statement: Override the display_info method in ElectricCar to include battery size.\n",
    "Input: ElectricCar(\"Tesla\", \"Model S\", 2023, 100).display_info()\n",
    "Expected Output: \"Tesla Model S (2023) with 100 kWh battery\"\n",
    "'''\n",
    "\n",
    "class ElectricCar(Car):\n",
    "\n",
    "    def __init__(self, make, model, year, battery_size = 0):\n",
    "        Car.__init__(self, make, model, year)\n",
    "        self.bt = battery_size\n",
    "\n",
    "    def display(self):\n",
    "        #Car.display(self)\n",
    "        print(f\"{self.mk} {self.mdl} {self.yr} with {self.bt} kWh battery\")\n",
    "    \n",
    "ec = ElectricCar(\"Tesla\", \"Model S\", 2023, 100)\n",
    "ec.display()"
   ]
  },
  {
   "cell_type": "code",
   "execution_count": 158,
   "metadata": {},
   "outputs": [
    {
     "name": "stdout",
     "output_type": "stream",
     "text": [
      "Tesla Model S 2023 with 100 kWh battery\n"
     ]
    },
    {
     "data": {
      "text/plain": [
       "0"
      ]
     },
     "execution_count": 158,
     "metadata": {},
     "output_type": "execute_result"
    }
   ],
   "source": [
    "'''Problem 27: OOP - Encapsulation\n",
    "Problem Statement: Add a private attribute __mileage to the Car class and a method to get it.\n",
    "Input: Car(\"Toyota\", \"Corolla\", 2020).get_mileage()\n",
    "Expected Output: 0 (default mileage)\n",
    "'''\n",
    "class ElectricCar(Car):\n",
    "\n",
    "    def __init__(self, make, model, year, battery_size = 0):\n",
    "        Car.__init__(self, make, model, year)\n",
    "        self.bt = battery_size\n",
    "        self.__mileage = 0\n",
    "\n",
    "    def display(self):\n",
    "        #Car.display(self)\n",
    "        print(f\"{self.mk} {self.mdl} {self.yr} with {self.bt} kWh battery\")\n",
    "    \n",
    "    def get_mileage(self):\n",
    "        return self.__mileage\n",
    "    \n",
    "ec = ElectricCar(\"Tesla\", \"Model S\", 2023, 100)\n",
    "ec.display()\n",
    "ec.get_mileage()\n"
   ]
  },
  {
   "cell_type": "code",
   "execution_count": null,
   "metadata": {},
   "outputs": [],
   "source": [
    "from shutil import copy\n",
    "import os\n",
    "source  = r\"C:\\Users\\gagan\\Downloads\\Spark\\CLFP013\\CLFP01305.ipynb\"\n",
    "destination = r\"C:\\Users\\gagan\\Downloads\\Spark\\CLFP013\\Daily_Code_Bytes\"\n",
    "copy(source, destination)"
   ]
  }
 ],
 "metadata": {
  "kernelspec": {
   "display_name": "base",
   "language": "python",
   "name": "python3"
  },
  "language_info": {
   "codemirror_mode": {
    "name": "ipython",
    "version": 3
   },
   "file_extension": ".py",
   "mimetype": "text/x-python",
   "name": "python",
   "nbconvert_exporter": "python",
   "pygments_lexer": "ipython3",
   "version": "3.11.7"
  }
 },
 "nbformat": 4,
 "nbformat_minor": 2
}
