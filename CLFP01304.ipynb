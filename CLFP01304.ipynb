{
 "cells": [
  {
   "cell_type": "code",
   "execution_count": 38,
   "metadata": {},
   "outputs": [
    {
     "data": {
      "text/plain": [
       "8"
      ]
     },
     "execution_count": 38,
     "metadata": {},
     "output_type": "execute_result"
    }
   ],
   "source": [
    "def sum_of_two_numbers(n1, n2):\n",
    "    return n1 + n2\n",
    "sum_of_two_numbers(3, 5)"
   ]
  },
  {
   "cell_type": "code",
   "execution_count": 39,
   "metadata": {},
   "outputs": [
    {
     "data": {
      "text/plain": [
       "'olleh'"
      ]
     },
     "execution_count": 39,
     "metadata": {},
     "output_type": "execute_result"
    }
   ],
   "source": [
    "def string_reverse(s1):\n",
    "    idx = sorted(list(i for i in range(0, len(s1))), reverse = True)\n",
    "    rs1 = []\n",
    "    for i in idx:\n",
    "        rs1.append(s1[i])\n",
    "    return ''.join(rs1)\n",
    "string_reverse(\"hello\")\n",
    "\n",
    "\n"
   ]
  },
  {
   "cell_type": "code",
   "execution_count": 40,
   "metadata": {},
   "outputs": [
    {
     "data": {
      "text/plain": [
       "3"
      ]
     },
     "execution_count": 40,
     "metadata": {},
     "output_type": "execute_result"
    }
   ],
   "source": [
    "def count_vowels(s1):\n",
    "    vowels = \"aeiouAEIOU\"\n",
    "    return len(list(i for i in list(s1.lower().replace(\" \",\"\")) if i in vowels))\n",
    "count_vowels(\"hello world\")"
   ]
  },
  {
   "cell_type": "code",
   "execution_count": 41,
   "metadata": {},
   "outputs": [
    {
     "data": {
      "text/plain": [
       "15"
      ]
     },
     "execution_count": 41,
     "metadata": {},
     "output_type": "execute_result"
    }
   ],
   "source": [
    "def sum_of_elements(li):\n",
    "    sum = 0\n",
    "    for i in li:\n",
    "        sum += i\n",
    "    return sum\n",
    "sum_of_elements([1, 2, 3, 4, 5])"
   ]
  },
  {
   "cell_type": "code",
   "execution_count": 52,
   "metadata": {},
   "outputs": [
    {
     "data": {
      "text/plain": [
       "True"
      ]
     },
     "execution_count": 52,
     "metadata": {},
     "output_type": "execute_result"
    }
   ],
   "source": [
    "def find_dict(dict1, fkey):\n",
    "    return bool(True if fkey in dict1 else False)\n",
    "\n",
    "find_dict({\"a\": 1, \"b\": 2}, \"b\")"
   ]
  },
  {
   "cell_type": "code",
   "execution_count": 55,
   "metadata": {},
   "outputs": [
    {
     "data": {
      "text/plain": [
       "40"
      ]
     },
     "execution_count": 55,
     "metadata": {},
     "output_type": "execute_result"
    }
   ],
   "source": [
    "def sum_first_last(tup):\n",
    "    sum = 0\n",
    "    for i in tup:\n",
    "        if i == tup[0] or i == tup[-1]:\n",
    "            sum += i\n",
    "        else:\n",
    "            continue\n",
    "    return sum\n",
    "sum_first_last((10, 20, 30))\n"
   ]
  },
  {
   "cell_type": "code",
   "execution_count": 57,
   "metadata": {},
   "outputs": [
    {
     "data": {
      "text/plain": [
       "{2, 3}"
      ]
     },
     "execution_count": 57,
     "metadata": {},
     "output_type": "execute_result"
    }
   ],
   "source": [
    "def set_intersection(s1, s2):\n",
    "    return set(i for i in s1 if i in s2)\n",
    "set_intersection({1, 2, 3}, {2, 3, 4})"
   ]
  },
  {
   "cell_type": "code",
   "execution_count": 62,
   "metadata": {},
   "outputs": [
    {
     "name": "stdout",
     "output_type": "stream",
     "text": [
      "Overwriting sample.txt\n"
     ]
    }
   ],
   "source": [
    "%%writefile \"sample.txt\"\n",
    "hello world\n",
    "hello india\n",
    "hello gagan\n",
    "hello genpact\n"
   ]
  },
  {
   "cell_type": "code",
   "execution_count": 63,
   "metadata": {},
   "outputs": [
    {
     "data": {
      "text/plain": [
       "4"
      ]
     },
     "execution_count": 63,
     "metadata": {},
     "output_type": "execute_result"
    }
   ],
   "source": [
    "def line_count(file_name):\n",
    "    with open(file_name, 'r') as f:\n",
    "        return len(list(i for i in f.readlines()))\n",
    "line_count('sample.txt')"
   ]
  },
  {
   "cell_type": "code",
   "execution_count": 70,
   "metadata": {},
   "outputs": [
    {
     "data": {
      "text/plain": [
       "True"
      ]
     },
     "execution_count": 70,
     "metadata": {},
     "output_type": "execute_result"
    }
   ],
   "source": [
    "def greater(n1, n2):\n",
    "    return bool(True if n1 > n2 else False)\n",
    "greater(10, 5)"
   ]
  },
  {
   "cell_type": "code",
   "execution_count": 74,
   "metadata": {},
   "outputs": [
    {
     "data": {
      "text/plain": [
       "True"
      ]
     },
     "execution_count": 74,
     "metadata": {},
     "output_type": "execute_result"
    }
   ],
   "source": [
    "def chained_comparision(num):\n",
    "    return bool(True if num in range(1, (100 + 1)) else False)\n",
    "chained_comparision(50)"
   ]
  },
  {
   "cell_type": "code",
   "execution_count": null,
   "metadata": {},
   "outputs": [
    {
     "name": "stdout",
     "output_type": "stream",
     "text": [
      "File copied successfully!\n"
     ]
    }
   ],
   "source": [
    "import shutil\n",
    "source = r\"C:\\Users\\gagan\\Downloads\\Spark\\CLFP013\\CLFP01304.ipynb\"\n",
    "destination = r\"C:\\Users\\gagan\\Downloads\\Spark\\CLFP013\\Daily_Code_Bytes\"\n",
    "shutil.copy(source, destination)\n",
    "print(\"File copied successfully!\")\n"
   ]
  },
  {
   "cell_type": "code",
   "execution_count": null,
   "metadata": {},
   "outputs": [],
   "source": [
    "copy()"
   ]
  }
 ],
 "metadata": {
  "kernelspec": {
   "display_name": "base",
   "language": "python",
   "name": "python3"
  },
  "language_info": {
   "codemirror_mode": {
    "name": "ipython",
    "version": 3
   },
   "file_extension": ".py",
   "mimetype": "text/x-python",
   "name": "python",
   "nbconvert_exporter": "python",
   "pygments_lexer": "ipython3",
   "version": "3.11.7"
  }
 },
 "nbformat": 4,
 "nbformat_minor": 2
}
