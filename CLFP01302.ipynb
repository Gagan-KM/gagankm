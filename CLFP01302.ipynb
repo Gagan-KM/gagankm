{
 "cells": [
  {
   "cell_type": "code",
   "execution_count": 3,
   "metadata": {},
   "outputs": [
    {
     "data": {
      "text/plain": [
       "[3]"
      ]
     },
     "execution_count": 3,
     "metadata": {},
     "output_type": "execute_result"
    }
   ],
   "source": [
    "'''21. Find missing number in a list\n",
    "📥 Input: [1, 2, 4, 5]\n",
    "📤 Output: 3\n",
    "'''\n",
    "\n",
    "def missing_number(li):\n",
    "    return [i for i in range(1, max(li) + 1) if i not in li]\n",
    "missing_number([1, 2, 4, 5])"
   ]
  },
  {
   "cell_type": "code",
   "execution_count": 17,
   "metadata": {},
   "outputs": [
    {
     "data": {
      "text/plain": [
       "[('b', 1), ('c', 2), ('a', 3)]"
      ]
     },
     "execution_count": 17,
     "metadata": {},
     "output_type": "execute_result"
    }
   ],
   "source": [
    "'''22. Sort a list of tuples by the second value\n",
    "📥 Input: [(\"a\", 3), (\"b\", 1), (\"c\", 2)]\n",
    "📤 Output: [(\"b\", 1), (\"c\", 2), (\"a\", 3)]'''\n",
    "\n",
    "def sort_by_second(li):\n",
    "    return sorted(li, key = lambda x : x[1])\n",
    "sort_by_second([(\"a\", 3), (\"b\", 1), (\"c\", 2)])"
   ]
  },
  {
   "cell_type": "code",
   "execution_count": 19,
   "metadata": {},
   "outputs": [
    {
     "data": {
      "text/plain": [
       "3"
      ]
     },
     "execution_count": 19,
     "metadata": {},
     "output_type": "execute_result"
    }
   ],
   "source": [
    "'''23. Count vowels in a string\n",
    "📥 Input: \"Hello World\"\n",
    "📤 Output: 3'''\n",
    "\n",
    "def vowel_count(st):\n",
    "    count = 0\n",
    "    vowels = \"aeiouAEIOU\"\n",
    "    for i in st:\n",
    "        if i in vowels:\n",
    "            count += 1\n",
    "    return count\n",
    "vowel_count(\"Hello world!\")"
   ]
  },
  {
   "cell_type": "code",
   "execution_count": 21,
   "metadata": {},
   "outputs": [
    {
     "data": {
      "text/plain": [
       "{'a': 1, 'b': 2, 'c': 3}"
      ]
     },
     "execution_count": 21,
     "metadata": {},
     "output_type": "execute_result"
    }
   ],
   "source": [
    "'''24. Convert list of tuples to dictionary\n",
    "📥 Input: [(\"a\", 1), (\"b\", 2), (\"c\", 3)]\n",
    "📤 Output: {\"a\": 1, \"b\": 2, \"c\": 3}'''\n",
    "\n",
    "def list_to_dict(li):\n",
    "    dict1 = {}\n",
    "    for i, j in li:\n",
    "        dict1[i] = j\n",
    "    return dict1\n",
    "list_to_dict([(\"a\", 1), (\"b\", 2), (\"c\", 3)])"
   ]
  },
  {
   "cell_type": "code",
   "execution_count": 29,
   "metadata": {},
   "outputs": [
    {
     "data": {
      "text/plain": [
       "[1, 2]"
      ]
     },
     "execution_count": 29,
     "metadata": {},
     "output_type": "execute_result"
    }
   ],
   "source": [
    "'''26. Find duplicate numbers in a list\n",
    "📥 Input: [1, 2, 3, 4, 2, 5, 1]\n",
    "📤 Output: [1, 2]'''\n",
    "\n",
    "def duplicates(li):\n",
    "    return list(set(i for i in li if li.count(i) > 1))\n",
    "duplicates([1, 2, 3, 4, 2, 5, 1])"
   ]
  },
  {
   "cell_type": "code",
   "execution_count": 35,
   "metadata": {},
   "outputs": [
    {
     "data": {
      "text/plain": [
       "[True]"
      ]
     },
     "execution_count": 35,
     "metadata": {},
     "output_type": "execute_result"
    }
   ],
   "source": [
    "'''27. Check if a number is a perfect square\n",
    "📥 Input: 25\n",
    "📤 Output: True\n",
    "\n",
    "📥 Input: 26\n",
    "📤 Output: False'''\n",
    "\n",
    "def is_perfect_square(n):\n",
    "    return [True if (n ** 0.5) == int(n ** 0.5) else False]\n",
    "is_perfect_square(25)"
   ]
  },
  {
   "cell_type": "code",
   "execution_count": 48,
   "metadata": {},
   "outputs": [
    {
     "data": {
      "text/plain": [
       "'olleh'"
      ]
     },
     "execution_count": 48,
     "metadata": {},
     "output_type": "execute_result"
    }
   ],
   "source": [
    "'''28. Reverse a String Without Slicing  \n",
    "Input: \"hello\"  \n",
    "Output: \"olleh\"  \n",
    "'''\n",
    "\n",
    "def reverse_string(st):\n",
    "    li = sorted(list(i for i in range(0, len(st))), reverse = True)\n",
    "    stli = list(st.lower().replace(\" \",\"\"))\n",
    "    uli = []\n",
    "    for i in li:\n",
    "        for j in stli:\n",
    "            if i == stli.index(j): \n",
    "                uli.append(j)\n",
    "    return \"\".join(uli)\n",
    "reverse_string(\"hello\")"
   ]
  },
  {
   "cell_type": "code",
   "execution_count": null,
   "metadata": {},
   "outputs": [],
   "source": [
    "'''29. Convert Fahrenheit to Celsius  \n",
    "Input: 98  \n",
    "Output: 36.67  \n",
    "'''"
   ]
  },
  {
   "cell_type": "code",
   "execution_count": 68,
   "metadata": {},
   "outputs": [
    {
     "data": {
      "text/plain": [
       "'a'"
      ]
     },
     "execution_count": 68,
     "metadata": {},
     "output_type": "execute_result"
    }
   ],
   "source": [
    "'''30. Find the Most Common Character in a String  \n",
    "Input: \"banana\"  \n",
    "Output: \"a\"  \n",
    "'''\n",
    "\n",
    "def most_common_char(st):\n",
    "    dict1 = {}\n",
    "    max = 0\n",
    "    maxk = None\n",
    "    for i in list(st):\n",
    "        if i in dict1:\n",
    "            dict1[i] += 1\n",
    "        else:\n",
    "            dict1[i] = 1\n",
    "    for i, j in dict1.items():\n",
    "        if j > max:\n",
    "            max = j\n",
    "            maxk = i\n",
    "    return maxk\n",
    "most_common_char(\"banana\")"
   ]
  },
  {
   "cell_type": "code",
   "execution_count": 71,
   "metadata": {},
   "outputs": [
    {
     "data": {
      "text/plain": [
       "36.67"
      ]
     },
     "execution_count": 71,
     "metadata": {},
     "output_type": "execute_result"
    }
   ],
   "source": [
    "'''29. Convert Fahrenheit to Celsius  \n",
    "Input: 98  \n",
    "Output: 36.67  \n",
    "C= (F−32)×5 / 9'''\n",
    "\n",
    "def fahrenheit_to_celsius(f):\n",
    "    return round((((f - 32) * 5) / 9), 2)\n",
    "fahrenheit_to_celsius(98)"
   ]
  },
  {
   "cell_type": "code",
   "execution_count": 74,
   "metadata": {},
   "outputs": [
    {
     "data": {
      "text/plain": [
       "{'the': 3,\n",
       " 'quick': 1,\n",
       " 'brown': 1,\n",
       " 'fox': 2,\n",
       " 'jumps': 1,\n",
       " 'over': 1,\n",
       " 'lazy': 1,\n",
       " 'dog': 1}"
      ]
     },
     "execution_count": 74,
     "metadata": {},
     "output_type": "execute_result"
    }
   ],
   "source": [
    "'''31. Count Occurrences of Each Word in a Sentence  \n",
    "Input: \"the quick brown fox jumps over the lazy dog the fox\"  \n",
    "Output: {\"the\": 2, \"quick\": 1, \"brown\": 1, \"fox\": 2, \"jumps\": 1, \"over\": 1, \"lazy\": 1, \"dog\": 1}'''\n",
    "\n",
    "def word_count(st):\n",
    "    dict1 = {}\n",
    "    for i in list(st.lower().split(\" \")):\n",
    "        if i in dict1:\n",
    "            dict1[i] += 1\n",
    "        else:\n",
    "            dict1[i] = 1\n",
    "    return dict1\n",
    "word_count(\"the quick brown fox jumps over the lazy dog the fox\")"
   ]
  },
  {
   "cell_type": "code",
   "execution_count": null,
   "metadata": {},
   "outputs": [],
   "source": [
    "'''32. Implement a Simple BankAccount Class  \n",
    "Operations:  \n",
    "deposit(1000)  \n",
    "withdraw(500)  \n",
    "get_balance()  \n",
    "\n",
    "Output:  \n",
    "500  '''\n",
    "class Bank():\n",
    "    def __init__(self, balance = 0):\n",
    "        self.bal = balance\n",
    "\n",
    "    def deposit(self, dpt):\n",
    "        self.bal += dpt\n",
    "        return f\"deposit sucessfull available balance {self.bal}\"\n",
    "    \n",
    "    def withdraw(self, wd):\n",
    "        if self.bal < 1:\n",
    "            return f\"Insufficient funds available, available balance {self.bal}\"\n",
    "        else:\n",
    "            self.bal -= wd\n",
    "            return f\"withdraw sucessfull available balance {self.bal}\"\n",
    "        \n",
    "    def get_balance(self):\n",
    "        return self.bal\n",
    "\n",
    "bnk = Bank()\n"
   ]
  },
  {
   "cell_type": "code",
   "execution_count": 137,
   "metadata": {},
   "outputs": [
    {
     "data": {
      "text/plain": [
       "'deposit sucessfull available balance 1000'"
      ]
     },
     "execution_count": 137,
     "metadata": {},
     "output_type": "execute_result"
    }
   ],
   "source": [
    "bnk.deposit(1000)"
   ]
  },
  {
   "cell_type": "code",
   "execution_count": 141,
   "metadata": {},
   "outputs": [
    {
     "data": {
      "text/plain": [
       "'Insufficient funds available, available balance 0'"
      ]
     },
     "execution_count": 141,
     "metadata": {},
     "output_type": "execute_result"
    }
   ],
   "source": [
    "  \n",
    "bnk.withdraw(500)  \n"
   ]
  },
  {
   "cell_type": "code",
   "execution_count": 134,
   "metadata": {},
   "outputs": [
    {
     "data": {
      "text/plain": [
       "0"
      ]
     },
     "execution_count": 134,
     "metadata": {},
     "output_type": "execute_result"
    }
   ],
   "source": [
    "bnk.get_balance()"
   ]
  },
  {
   "cell_type": "code",
   "execution_count": 165,
   "metadata": {},
   "outputs": [
    {
     "data": {
      "text/plain": [
       "[3, 4, 5]"
      ]
     },
     "execution_count": 165,
     "metadata": {},
     "output_type": "execute_result"
    }
   ],
   "source": [
    "'''35. Find Intersection of Two Lists  \n",
    "Input: [1, 2, 3, 4, 5], [3, 4, 5, 6, 7]  \n",
    "Output: [3, 4, 5]'''\n",
    "\n",
    "def instersection(l1, l2):\n",
    "    return list(filter(lambda x : x in l2, l1))\n",
    "instersection([1, 2, 3, 4, 5], [3, 4, 5, 6, 7, 3])"
   ]
  },
  {
   "cell_type": "code",
   "execution_count": 173,
   "metadata": {},
   "outputs": [
    {
     "data": {
      "text/plain": [
       "['world', 'Hello']"
      ]
     },
     "execution_count": 173,
     "metadata": {},
     "output_type": "execute_result"
    }
   ],
   "source": [
    "'''37. Reverse Words in a Sentence  \n",
    "Input: \"Hello world\"  \n",
    "Output: \"world Hello\" '''\n",
    "\n",
    "def reverse_strings(l1):\n",
    "    return sorted(l1.split(\" \"), reverse = True)\n",
    "reverse_strings(\"Hello world\")"
   ]
  },
  {
   "cell_type": "code",
   "execution_count": null,
   "metadata": {},
   "outputs": [
    {
     "data": {
      "text/plain": [
       "{1: 1, 2: 2, 3: 3, 4: 4}"
      ]
     },
     "execution_count": 176,
     "metadata": {},
     "output_type": "execute_result"
    }
   ],
   "source": [
    "'''39. Count Occurrences of Elements in a List  \n",
    "Input: [1, 2, 2, 3, 3, 3, 4, 4, 4, 4]  \n",
    "Output: {1: 1, 2: 2, 3: 3, 4: 4}  \n",
    "'''\n",
    "\n",
    "def occurrences(li):\n",
    "    dict1 = {}\n",
    "    for i in li:\n",
    "        if i in dict1:\n",
    "            dict1[i] += 1\n",
    "        else:\n",
    "            dict1[i] = 1\n",
    "    return dict1\n",
    "occurrences([1, 2, 2, 3, 3, 3, 4, 4, 4, 4])\n"
   ]
  }
 ],
 "metadata": {
  "kernelspec": {
   "display_name": "base",
   "language": "python",
   "name": "python3"
  },
  "language_info": {
   "codemirror_mode": {
    "name": "ipython",
    "version": 3
   },
   "file_extension": ".py",
   "mimetype": "text/x-python",
   "name": "python",
   "nbconvert_exporter": "python",
   "pygments_lexer": "ipython3",
   "version": "3.11.7"
  }
 },
 "nbformat": 4,
 "nbformat_minor": 2
}
